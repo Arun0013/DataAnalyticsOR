{
 "cells": [
  {
   "cell_type": "code",
   "execution_count": 119,
   "metadata": {},
   "outputs": [],
   "source": [
    "import pandas as pd\n",
    "from sklearn.cluster import KMeans\n",
    "import numpy as np\n",
    "import matplotlib.pyplot as plt\n",
    "from sklearn import metrics \n",
    "from sklearn.svm import SVC\n",
    "from sklearn.model_selection import cross_val_score\n",
    "from sklearn.model_selection import cross_val_predict\n",
    "from sklearn.model_selection import cross_validate\n",
    "\n",
    "import time\n",
    "%matplotlib inline"
   ]
  },
  {
   "cell_type": "code",
   "execution_count": 120,
   "metadata": {},
   "outputs": [],
   "source": [
    "data = pd.read_csv(\"BCData.csv\", header = None)\n",
    "data_orig = data.copy()\n",
    "X = data.iloc[:,2:]\n",
    "y = data.iloc[:,1]"
   ]
  },
  {
   "cell_type": "code",
   "execution_count": 121,
   "metadata": {},
   "outputs": [
    {
     "name": "stdout",
     "output_type": "stream",
     "text": [
      "0.1\n",
      "1\n",
      "10\n",
      "20\n",
      "30\n",
      "40\n",
      "50\n",
      "60\n",
      "70\n",
      "80\n",
      "90\n",
      "100\n"
     ]
    }
   ],
   "source": [
    "CRange = [0.1, 1, 10, 20, 30, 40, 50, 60, 70, 80, 90, 100]\n",
    "#CRange = [70]\n",
    "trainError = [0 for i in range(len(CRange))]\n",
    "testError = [0 for i in range(len(CRange))]\n",
    "sensitivity = [0 for i in range(len(CRange))]\n",
    "specificity = [0 for i in range(len(CRange))]\n",
    "fittime = [0 for i in range(len(CRange))]\n",
    "\n",
    "for i in range(len(CRange)):\n",
    "    print(CRange[i])\n",
    "    clf = SVC(C = CRange[i], kernel='sigmoid')\n",
    "    ypred = cross_val_predict(clf, X, y, cv=10)\n",
    "    scores = cross_validate(clf, X, y, cv=10, return_train_score=True)\n",
    "    #sorted(scores.keys())\n",
    "    trainError[i] = scores['train_accuracy'].mean()\n",
    "    testError[i] = scores['test_accuracy'].mean()\n",
    "    fittime[i] = scores['fit_time'].mean()\n",
    "    cm = metrics.confusion_matrix(y, ypred)\n",
    "    sensitivity[i] = float(cm[1][1])/np.sum(cm[1])\n",
    "    specificity[i] = float(cm[0][0])/np.sum(cm[0])\n",
    "#scores = cross_val_score(clf, X, y, cv=10, scoring = 'accuracy')\n",
    "#scores.mean()\n",
    "#metrics.confusion_matrix(y, ypred)\n",
    "#metrics.accuracy_score(y, ypred)\n",
    "#scores['train_accuracy'].mean()\n",
    "\n",
    "#clf.fit(X,y)\n",
    "#ynew = pd.DataFrame()\n",
    "#ynew['actual'] = y\n",
    "#ynew['predict'] = pd.Series(clf.predict(X))\n",
    "#output = (ynew.loc[:,'actual'] == ynew.loc[:,'predict'])\n",
    "#ypred = pd.Series(clf.predict(X))\n",
    "#metrics.accuracy_score(y, ypred)\n",
    "#tn, fp, fn, tp = metrics.confusion_matrix(y, ypred).ravel()\n",
    "#tn, fp, fn, tp"
   ]
  },
  {
   "cell_type": "code",
   "execution_count": 122,
   "metadata": {},
   "outputs": [
    {
     "data": {
      "image/png": "[encoded data removed]",
      "text/plain": [
       "<matplotlib.figure.Figure at 0x7f5ef892b7f0>"
      ]
     },
     "metadata": {},
     "output_type": "display_data"
    }
   ],
   "source": [
    "#plt.plot(CRange, trainError, '-*b')\n",
    "plt.plot(CRange, testError, '-or', lw = 2, ms = 8)\n",
    "plt.plot(CRange, sensitivity, '-^k', lw = 2, ms = 8)\n",
    "plt.plot(CRange, specificity, '-+m', lw = 2, ms = 8)\n",
    "plt.legend(['Test Accuracy', 'Sensitivity', 'Specificity'], fontsize = 12)\n",
    "plt.xlabel(\"C\", fontsize=18)\n",
    "plt.ylabel(\"Score\", fontsize=18)\n",
    "#plt.savefig('SVM_Linear_Accuracy.png', format='png')\n",
    "#plt.savefig('SVM_Linear_Accuracy.eps', format='eps')\n",
    "plt.savefig('SVM_Sigmoid_Accuracy.png', format='png')\n",
    "plt.savefig('SVM_Sigmoid_Accuracy.eps', format='eps')"
   ]
  },
  {
   "cell_type": "code",
   "execution_count": 124,
   "metadata": {},
   "outputs": [
    {
     "data": {
      "text/plain": [
       "array([[357,   0],\n",
       "       [212,   0]])"
      ]
     },
     "execution_count": 124,
     "metadata": {},
     "output_type": "execute_result"
    }
   ],
   "source": [
    "fittime\n",
    "metrics.confusion_matrix(y, ypred)"
   ]
  },
  {
   "cell_type": "code",
   "execution_count": 125,
   "metadata": {},
   "outputs": [
    {
     "data": {
      "text/plain": [
       "['fit_time', 'score_time', 'test_accuracy', 'train_accuracy']"
      ]
     },
     "execution_count": 125,
     "metadata": {},
     "output_type": "execute_result"
    }
   ],
   "source": [
    "sorted(scores.keys())"
   ]
  }
 ],
 "metadata": {
  "kernelspec": {
   "display_name": "Python 3",
   "language": "python",
   "name": "python3"
  },
  "language_info": {
   "codemirror_mode": {
    "name": "ipython",
    "version": 3
   },
   "file_extension": ".py",
   "mimetype": "text/x-python",
   "name": "python",
   "nbconvert_exporter": "python",
   "pygments_lexer": "ipython3",
   "version": "3.5.2"
  }
 },
 "nbformat": 4,
 "nbformat_minor": 2
}
