{
 "cells": [
  {
   "cell_type": "code",
   "execution_count": 116,
   "metadata": {},
   "outputs": [],
   "source": [
    "import pandas as pd\n",
    "from sklearn.cluster import KMeans\n",
    "import numpy as np\n",
    "import matplotlib.pyplot as plt\n",
    "%matplotlib inline\n",
    "data = pd.read_csv(\"BCData.csv\", header = None)"
   ]
  },
  {
   "cell_type": "code",
   "execution_count": 117,
   "metadata": {},
   "outputs": [],
   "source": [
    "data_orig = data.copy()\n",
    "X = data.iloc[:,2:]\n",
    "y = data.iloc[:,1]"
   ]
  },
  {
   "cell_type": "code",
   "execution_count": 118,
   "metadata": {},
   "outputs": [],
   "source": [
    "XM = X[y == \"M\"]\n",
    "XB = X[y == \"B\"]"
   ]
  },
  {
   "cell_type": "code",
   "execution_count": 119,
   "metadata": {},
   "outputs": [
    {
     "name": "stderr",
     "output_type": "stream",
     "text": [
      "/usr/local/lib/python3.5/dist-packages/pandas/core/indexing.py:621: SettingWithCopyWarning: \n",
      "A value is trying to be set on a copy of a slice from a DataFrame.\n",
      "Try using .loc[row_indexer,col_indexer] = value instead\n",
      "\n",
      "See the caveats in the documentation: http://pandas.pydata.org/pandas-docs/stable/indexing.html#indexing-view-versus-copy\n",
      "  self.obj[item_labels[indexer[info_axis]]] = value\n"
     ]
    }
   ],
   "source": [
    "for j in range(XM.shape[1]):\n",
    "    average = XM.iloc[:,j].mean()\n",
    "    ranges = XM.iloc[:,j].max() - XM.iloc[:,j].min() \n",
    "    #ranges = XM.iloc[:,j].std()\n",
    "    XM.iloc[:,j] -= average\n",
    "    XM.iloc[:,j] = XM.iloc[:,j]/ranges \n",
    "    \n",
    "for j in range(XB.shape[1]):\n",
    "    average = XB.iloc[:,j].mean()\n",
    "    ranges = XB.iloc[:,j].max() - XB.iloc[:,j].min() \n",
    "    #ranges = XM.iloc[:,j].std()\n",
    "    XB.iloc[:,j] -= average\n",
    "    XB.iloc[:,j] = XB.iloc[:,j]/ranges "
   ]
  },
  {
   "cell_type": "code",
   "execution_count": 132,
   "metadata": {},
   "outputs": [],
   "source": [
    "Krange = [k for k in range(2,30)]\n",
    "\n",
    "thetaM = [0 for i in range(len(Krange))]\n",
    "thetaB = [0 for i in range(len(Krange))]\n",
    "\n",
    "for K in Krange:\n",
    "    kmM = KMeans(n_clusters = K,  random_state = 4)\n",
    "    kmM.fit(XM)\n",
    "    centroidM = kmM.cluster_centers_\n",
    "    labelsM = kmM.labels_\n",
    "    davgM = 0;\n",
    "    for k in range(K):\n",
    "        for i in range(XM.shape[0]):\n",
    "            if(labelsM[i] == k):\n",
    "                diff = XM.iloc[i, :] - centroidM[k, :]\n",
    "                davgM = davgM + (np.dot(diff, diff))**0.5\n",
    "    davgM = davgM/XM.shape[0]\n",
    "    dminM = 100000000;\n",
    "    for k in range(K-1):\n",
    "        for kk in range(k+1, K):\n",
    "            dist = centroidM[k,:] - centroidM[kk,:]\n",
    "            dist = (np.dot(dist, dist))**0.5\n",
    "            if(dist < dminM):\n",
    "                dminM = dist\n",
    "    thetaM[K-Krange[0]] = davgM/dminM\n",
    "\n",
    "for K in Krange:\n",
    "    kmB = KMeans(n_clusters = K,  random_state = 1)\n",
    "    kmB.fit(XB)\n",
    "    centroidB = kmB.cluster_centers_\n",
    "    labelsB = kmB.labels_\n",
    "    davgB = 0;\n",
    "    for k in range(K):\n",
    "        for i in range(XB.shape[0]):\n",
    "            if(labelsB[i] == k):\n",
    "                diff = XB.iloc[i, :] - centroidB[k, :]\n",
    "                davgB = davgB + (np.dot(diff, diff))**0.5\n",
    "    davgB = davgB/XB.shape[0]\n",
    "    dminB = 100000000;\n",
    "    for k in range(K-1):\n",
    "        for kk in range(k+1, K):\n",
    "            dist = centroidB[k,:] - centroidB[kk,:]\n",
    "            dist = (np.dot(dist, dist))**0.5\n",
    "            if(dist < dminB):\n",
    "                dminB = dist\n",
    "    thetaB[K-Krange[0]] = davgB/dminB\n",
    "    "
   ]
  },
  {
   "cell_type": "code",
   "execution_count": 133,
   "metadata": {},
   "outputs": [
    {
     "data": {
      "text/plain": [
       "[<matplotlib.lines.Line2D at 0x7f4b6611f1d0>]"
      ]
     },
     "execution_count": 133,
     "metadata": {},
     "output_type": "execute_result"
    },
    {
     "data": {
      "image/png": "[encoded data removed]",
      "text/plain": [
       "<matplotlib.figure.Figure at 0x7f4b661ca4a8>"
      ]
     },
     "metadata": {},
     "output_type": "display_data"
    }
   ],
   "source": [
    "plt.plot(Krange, thetaM, '-*b')"
   ]
  },
  {
   "cell_type": "code",
   "execution_count": 134,
   "metadata": {},
   "outputs": [
    {
     "data": {
      "text/plain": [
       "[<matplotlib.lines.Line2D at 0x7f4b660d5a20>]"
      ]
     },
     "execution_count": 134,
     "metadata": {},
     "output_type": "execute_result"
    },
    {
     "data": {
      "image/png": "[encoded data removed]",
      "text/plain": [
       "<matplotlib.figure.Figure at 0x7f4b66112748>"
      ]
     },
     "metadata": {},
     "output_type": "display_data"
    }
   ],
   "source": [
    "plt.plot(Krange, thetaB, '-*r')"
   ]
  }
 ],
 "metadata": {
  "kernelspec": {
   "display_name": "Python 3",
   "language": "python",
   "name": "python3"
  },
  "language_info": {
   "codemirror_mode": {
    "name": "ipython",
    "version": 3
   },
   "file_extension": ".py",
   "mimetype": "text/x-python",
   "name": "python",
   "nbconvert_exporter": "python",
   "pygments_lexer": "ipython3",
   "version": "3.5.2"
  }
 },
 "nbformat": 4,
 "nbformat_minor": 2
}
