{
 "cells": [
  {
   "cell_type": "code",
   "execution_count": 42,
   "metadata": {},
   "outputs": [],
   "source": [
    "import pandas as pd\n",
    "from sklearn.cluster import KMeans\n",
    "import numpy as np\n",
    "import matplotlib.pyplot as plt\n",
    "%matplotlib inline\n",
    "data = pd.read_csv(\"BCData.csv\", header = None)"
   ]
  },
  {
   "cell_type": "code",
   "execution_count": 43,
   "metadata": {},
   "outputs": [],
   "source": [
    "data_orig = data.copy()\n",
    "X = data.iloc[:,2:]\n",
    "y = data.iloc[:,1]"
   ]
  },
  {
   "cell_type": "code",
   "execution_count": 44,
   "metadata": {},
   "outputs": [],
   "source": [
    "XM = X[y == \"M\"]\n",
    "XB = X[y == \"B\"]"
   ]
  },
  {
   "cell_type": "code",
   "execution_count": 45,
   "metadata": {},
   "outputs": [
    {
     "name": "stderr",
     "output_type": "stream",
     "text": [
      "/usr/local/lib/python3.5/dist-packages/pandas/core/indexing.py:621: SettingWithCopyWarning: \n",
      "A value is trying to be set on a copy of a slice from a DataFrame.\n",
      "Try using .loc[row_indexer,col_indexer] = value instead\n",
      "\n",
      "See the caveats in the documentation: http://pandas.pydata.org/pandas-docs/stable/indexing.html#indexing-view-versus-copy\n",
      "  self.obj[item_labels[indexer[info_axis]]] = value\n"
     ]
    }
   ],
   "source": [
    "nFea = X.shape[1]\n",
    "averageM = [0 for i in range(nFea)]\n",
    "rangesM = [0 for i in range(nFea)]\n",
    "for j in range(nFea):\n",
    "    averageM[j] = XM.iloc[:,j].mean()\n",
    "    rangesM[j] = XM.iloc[:,j].max() - XM.iloc[:,j].min() \n",
    "    #rangesM[j] = XM.iloc[:,j].std()\n",
    "    XM.iloc[:,j] -= averageM[j]\n",
    "    XM.iloc[:,j] = XM.iloc[:,j]/rangesM[j] \n",
    "   \n",
    "averageB = [0 for i in range(nFea)]\n",
    "rangesB = [0 for i in range(nFea)]\n",
    "for j in range(XB.shape[1]):\n",
    "    averageB[j] = XB.iloc[:,j].mean()\n",
    "    rangesB[j] = XB.iloc[:,j].max() - XB.iloc[:,j].min() \n",
    "    #rangesB[j] = XB.iloc[:,j].std()\n",
    "    XB.iloc[:,j] -= averageB[j]\n",
    "    XB.iloc[:,j] = XB.iloc[:,j]/rangesB[j] "
   ]
  },
  {
   "cell_type": "code",
   "execution_count": 46,
   "metadata": {},
   "outputs": [],
   "source": [
    "Krange = [k for k in range(2,30)]\n",
    "\n",
    "thetaM = [0 for i in range(len(Krange))]\n",
    "thetaB = [0 for i in range(len(Krange))]\n",
    "\n",
    "for K in Krange:\n",
    "    kmM = KMeans(n_clusters = K,  random_state = 4)\n",
    "    kmM.fit(XM)\n",
    "    centroidM = kmM.cluster_centers_\n",
    "    labelsM = kmM.labels_\n",
    "    davgM = 0;\n",
    "    for k in range(K):\n",
    "        for i in range(XM.shape[0]):\n",
    "            if(labelsM[i] == k):\n",
    "                diff = XM.iloc[i, :] - centroidM[k, :]\n",
    "                davgM = davgM + (np.dot(diff, diff))**0.5\n",
    "    davgM = davgM/XM.shape[0]\n",
    "    dminM = 100000000;\n",
    "    for k in range(K-1):\n",
    "        for kk in range(k+1, K):\n",
    "            dist = centroidM[k,:] - centroidM[kk,:]\n",
    "            dist = (np.dot(dist, dist))**0.5\n",
    "            if(dist < dminM):\n",
    "                dminM = dist\n",
    "    thetaM[K-Krange[0]] = davgM/dminM\n",
    "\n",
    "for K in Krange:\n",
    "    kmB = KMeans(n_clusters = K,  random_state = 1)\n",
    "    kmB.fit(XB)\n",
    "    centroidB = kmB.cluster_centers_\n",
    "    labelsB = kmB.labels_\n",
    "    davgB = 0;\n",
    "    for k in range(K):\n",
    "        for i in range(XB.shape[0]):\n",
    "            if(labelsB[i] == k):\n",
    "                diff = XB.iloc[i, :] - centroidB[k, :]\n",
    "                davgB = davgB + (np.dot(diff, diff))**0.5\n",
    "    davgB = davgB/XB.shape[0]\n",
    "    dminB = 100000000;\n",
    "    for k in range(K-1):\n",
    "        for kk in range(k+1, K):\n",
    "            dist = centroidB[k,:] - centroidB[kk,:]\n",
    "            dist = (np.dot(dist, dist))**0.5\n",
    "            if(dist < dminB):\n",
    "                dminB = dist\n",
    "    thetaB[K-Krange[0]] = davgB/dminB\n",
    "    "
   ]
  },
  {
   "cell_type": "code",
   "execution_count": 47,
   "metadata": {},
   "outputs": [
    {
     "data": {
      "text/plain": [
       "[0, 30, 0.7, 1.5]"
      ]
     },
     "execution_count": 47,
     "metadata": {},
     "output_type": "execute_result"
    },
    {
     "data": {
      "image/png": "[encoded data removed]",
      "text/plain": [
       "<matplotlib.figure.Figure at 0x7fa6c6483f28>"
      ]
     },
     "metadata": {},
     "output_type": "display_data"
    }
   ],
   "source": [
    "plt.plot(Krange, thetaM, '-*b')\n",
    "plt.xlabel(\"Number of Clusters\", fontsize=18)\n",
    "plt.ylabel(\"Validity Ratio\", fontsize=18)\n",
    "#plt.title(\"Malignant: Validity ratio vs # of clusters [new result]\", fontsize=18)\n",
    "#plt.savefig('Malignant_VR_K_New.png', format='png')\n",
    "#plt.savefig('Malignant_VR_K_New.eps', format='eps')\n",
    "plt.axis([0, 30, 0.7, 1.5])"
   ]
  },
  {
   "cell_type": "code",
   "execution_count": 48,
   "metadata": {},
   "outputs": [
    {
     "data": {
      "text/plain": [
       "[0, 30, 0.7, 1.5]"
      ]
     },
     "execution_count": 48,
     "metadata": {},
     "output_type": "execute_result"
    },
    {
     "data": {
      "image/png": "[encoded data removed]",
      "text/plain": [
       "<matplotlib.figure.Figure at 0x7fa6c64fa4a8>"
      ]
     },
     "metadata": {},
     "output_type": "display_data"
    }
   ],
   "source": [
    "plt.plot(Krange, thetaB, '-*b')\n",
    "plt.xlabel(\"Number of clusters\", fontsize=18)\n",
    "plt.ylabel(\"Validity ratio\", fontsize=18)\n",
    "#plt.title(\"Benign: Validity ratio vs # of clusters [new result]\")\n",
    "#plt.savefig('Benign_VR_K_New.png', format='png')\n",
    "#plt.savefig('Benign_VR_K_New.eps', format='eps')\n",
    "plt.axis([0, 30, 0.7, 1.5])"
   ]
  },
  {
   "cell_type": "code",
   "execution_count": 49,
   "metadata": {},
   "outputs": [
    {
     "data": {
      "text/plain": [
       "9.0949470177292824e-13"
      ]
     },
     "execution_count": 49,
     "metadata": {},
     "output_type": "execute_result"
    }
   ],
   "source": [
    "XM.iloc[:,0].sum()\n",
    "XB.iloc[:,0].sum()\n",
    "X.iloc[:,0].sum() - (len(XB)*averageB[0] + len(XM)*averageM[0])"
   ]
  }
 ],
 "metadata": {
  "kernelspec": {
   "display_name": "Python 3",
   "language": "python",
   "name": "python3"
  },
  "language_info": {
   "codemirror_mode": {
    "name": "ipython",
    "version": 3
   },
   "file_extension": ".py",
   "mimetype": "text/x-python",
   "name": "python",
   "nbconvert_exporter": "python",
   "pygments_lexer": "ipython3",
   "version": "3.5.2"
  }
 },
 "nbformat": 4,
 "nbformat_minor": 2
}
