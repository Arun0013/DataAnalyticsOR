{
 "cells": [
  {
   "cell_type": "code",
   "execution_count": 73,
   "metadata": {},
   "outputs": [],
   "source": [
    "import pandas as pd\n",
    "from sklearn.cluster import KMeans\n",
    "import numpy as np\n",
    "import matplotlib.pyplot as plt\n",
    "%matplotlib inline"
   ]
  },
  {
   "cell_type": "code",
   "execution_count": 74,
   "metadata": {},
   "outputs": [],
   "source": [
    "data = pd.read_csv(\"BCData.csv\", header = None)\n",
    "data_orig = data.copy()\n",
    "X = data.iloc[:,2:]\n",
    "y = data.iloc[:,1]\n",
    "nFea = X.shape[1]"
   ]
  },
  {
   "cell_type": "code",
   "execution_count": 75,
   "metadata": {},
   "outputs": [
    {
     "name": "stderr",
     "output_type": "stream",
     "text": [
      "/usr/local/lib/python3.5/dist-packages/pandas/core/indexing.py:621: SettingWithCopyWarning: \n",
      "A value is trying to be set on a copy of a slice from a DataFrame.\n",
      "Try using .loc[row_indexer,col_indexer] = value instead\n",
      "\n",
      "See the caveats in the documentation: http://pandas.pydata.org/pandas-docs/stable/indexing.html#indexing-view-versus-copy\n",
      "  self.obj[item_labels[indexer[info_axis]]] = value\n"
     ]
    }
   ],
   "source": [
    "XM = X[y == \"M\"]\n",
    "XB = X[y == \"B\"]\n",
    "averageM = [0 for i in range(nFea)]\n",
    "rangesM = [0 for i in range(nFea)]\n",
    "for j in range(nFea):\n",
    "    averageM[j] = XM.iloc[:,j].mean()\n",
    "    rangesM[j] = XM.iloc[:,j].max() - XM.iloc[:,j].min() \n",
    "    #ranges = XM.iloc[:,j].std()\n",
    "    XM.iloc[:,j] -= averageM[j]\n",
    "    XM.iloc[:,j] = XM.iloc[:,j]/rangesM[j] \n",
    "\n",
    "averageB = [0 for i in range(nFea)]\n",
    "rangesB = [0 for i in range(nFea)]\n",
    "for j in range(XB.shape[1]):\n",
    "    averageB[j] = XB.iloc[:,j].mean()\n",
    "    rangesB[j] = XB.iloc[:,j].max() - XB.iloc[:,j].min() \n",
    "    #ranges = XM.iloc[:,j].std()\n",
    "    XB.iloc[:,j] -= averageB[j]\n",
    "    XB.iloc[:,j] = XB.iloc[:,j]/rangesB[j]"
   ]
  },
  {
   "cell_type": "code",
   "execution_count": 76,
   "metadata": {},
   "outputs": [],
   "source": [
    "KM = 3\n",
    "KB = 3\n",
    "\n",
    "kmM = KMeans(n_clusters = KM,  random_state = 4)\n",
    "kmM.fit(XM)\n",
    "centroidM = kmM.cluster_centers_\n",
    "labelsM = kmM.labels_\n",
    "    \n",
    "kmB = KMeans(n_clusters = KB,  random_state = 1)\n",
    "kmB.fit(XB)\n",
    "centroidB = kmB.cluster_centers_\n",
    "labelsB = kmB.labels_    "
   ]
  },
  {
   "cell_type": "code",
   "execution_count": 77,
   "metadata": {},
   "outputs": [
    {
     "data": {
      "text/plain": [
       "\"\\nnewDF = pd.DataFrame()\\nnewDF['firstColumn'] = [1,2,3,4,-1]\\nnewDF['secondColumn'] = [2,4,5,1,2]\\nnewDF\\nnewDF = pd.DataFrame(np.zeros((5, 4)))\\nnewDF.dtypes\\n\""
      ]
     },
     "execution_count": 77,
     "metadata": {},
     "output_type": "execute_result"
    }
   ],
   "source": [
    "'''\n",
    "newDF = pd.DataFrame()\n",
    "newDF['firstColumn'] = [1,2,3,4,-1]\n",
    "newDF['secondColumn'] = [2,4,5,1,2]\n",
    "newDF\n",
    "newDF = pd.DataFrame(np.zeros((5, 4)))\n",
    "newDF.dtypes\n",
    "'''"
   ]
  },
  {
   "cell_type": "code",
   "execution_count": 78,
   "metadata": {},
   "outputs": [],
   "source": [
    "minXMj = np.zeros((KM, nFea))\n",
    "maxXMj = np.zeros((KM, nFea))\n",
    "maxDifM = np.zeros((KM, nFea))\n",
    "for k in range(KM):\n",
    "    XMtemp = XM[labelsM == k]\n",
    "    for j in range(nFea):\n",
    "        minXMj[k,j] = min(XMtemp.iloc[:,j])\n",
    "        maxXMj[k,j] = max(XMtemp.iloc[:,j])\n",
    "        maxDifM[k,j] =  max(abs(centroidM[k, j] - XMtemp.iloc[:,j]))\n",
    "\n",
    "minXBj = np.zeros((KB, nFea))\n",
    "maxXBj = np.zeros((KB, nFea))\n",
    "maxDifB = np.zeros((KB, nFea))\n",
    "for k in range(KB):\n",
    "    XBtemp = XB[labelsB == k]\n",
    "    for j in range(nFea):\n",
    "        minXBj[k,j] = min(XBtemp.iloc[:,j])\n",
    "        maxXBj[k,j] = max(XBtemp.iloc[:,j])\n",
    "        maxDifB[k,j] =  max(abs(centroidB[k, j] - XBtemp.iloc[:,j]))\n"
   ]
  },
  {
   "cell_type": "code",
   "execution_count": 79,
   "metadata": {},
   "outputs": [
    {
     "data": {
      "text/plain": [
       "'\\nprint(minXMj[0,0])\\nprint(maxXMj[0,0])\\nprint(centroidM[0,0])\\nprint(abs(centroidM[0,0] - maxXMj[0,0]))\\nprint(abs(centroidM[0,0] - minXMj[0,0]))\\nprint(maxDifM[0])\\n'"
      ]
     },
     "execution_count": 79,
     "metadata": {},
     "output_type": "execute_result"
    }
   ],
   "source": [
    "'''\n",
    "print(minXMj[0,0])\n",
    "print(maxXMj[0,0])\n",
    "print(centroidM[0,0])\n",
    "print(abs(centroidM[0,0] - maxXMj[0,0]))\n",
    "print(abs(centroidM[0,0] - minXMj[0,0]))\n",
    "print(maxDifM[0])\n",
    "'''"
   ]
  },
  {
   "cell_type": "code",
   "execution_count": 80,
   "metadata": {},
   "outputs": [],
   "source": [
    "nRows = X.shape[0]\n",
    "Xnew = pd.DataFrame(np.zeros((nRows, KM + KB)))\n",
    "\n",
    "for i in range(nRows):\n",
    "    for k in range(KM):\n",
    "        pc = 0\n",
    "        for j in range(nFea):\n",
    "            if(y[i] == \"M\"):\n",
    "                Xij = (X.iloc[i,j] - averageM[j]) / rangesM[j]\n",
    "            else:\n",
    "                Xij = (X.iloc[i,j] - averageB[j]) / rangesB[j]\n",
    "            if((minXMj[k,j] <= Xij) and (Xij <= maxXMj[k,j])):\n",
    "                #if((minXMj[k,j] > centroidM[k,j]) or (centroidM[k,j] > maxXMj[k,j])):\n",
    "                #    print(\"Centroid Error\")\n",
    "                f = abs(centroidM[k,j] - Xij)/maxDifM[k,j]\n",
    "                if(f > 1.00001):\n",
    "                    #print(f)\n",
    "                    print(\"MFractional Error\")\n",
    "                pc = pc + (1-f)\n",
    "        Xnew.iloc[i, k] = pc/nFea;\n",
    "        \n",
    "    for k in range(KB):\n",
    "        pc = 0\n",
    "        for j in range(nFea):\n",
    "            if(y[i] == \"M\"):\n",
    "                Xij = (X.iloc[i,j] - averageM[j]) / rangesM[j]\n",
    "            else:\n",
    "                Xij = (X.iloc[i,j] - averageB[j]) / rangesB[j]\n",
    "            if((minXBj[k,j] <= Xij) and (Xij <= maxXBj[k,j])):\n",
    "                f = abs(centroidB[k,j] - Xij)/maxDifB[k,j]\n",
    "                if(f > 1.00001):\n",
    "                    print(\"BFractional Error\")\n",
    "                pc = pc + (1-f)\n",
    "        Xnew.iloc[i, KM+k] = pc/nFea;"
   ]
  },
  {
   "cell_type": "code",
   "execution_count": 81,
   "metadata": {},
   "outputs": [
    {
     "name": "stdout",
     "output_type": "stream",
     "text": [
      "0.1\n",
      "1\n",
      "10\n",
      "20\n",
      "30\n",
      "40\n",
      "50\n",
      "60\n",
      "70\n",
      "80\n",
      "90\n",
      "100\n"
     ]
    }
   ],
   "source": [
    "from sklearn import metrics \n",
    "from sklearn.svm import SVC\n",
    "from sklearn.model_selection import cross_val_score\n",
    "from sklearn.model_selection import cross_val_predict\n",
    "from sklearn.model_selection import cross_validate\n",
    "\n",
    "CRange = [0.1, 1, 10, 20, 30, 40, 50, 60, 70, 80, 90, 100]\n",
    "#CRange = [50]\n",
    "trainError = [0 for i in range(len(CRange))]\n",
    "testError = [0 for i in range(len(CRange))]\n",
    "sensitivity = [0 for i in range(len(CRange))]\n",
    "specificity = [0 for i in range(len(CRange))]\n",
    "fittime = [0 for i in range(len(CRange))]\n",
    "\n",
    "for i in range(len(CRange)):\n",
    "    print(CRange[i])\n",
    "    clf = SVC(C = CRange[i], kernel='linear')\n",
    "    ypred = cross_val_predict(clf, Xnew, y, cv=10)\n",
    "    scores = cross_validate(clf, Xnew, y, cv=10, return_train_score=True)\n",
    "    #sorted(scores.keys())\n",
    "    trainError[i] = scores['train_score'].mean()\n",
    "    testError[i] = scores['test_score'].mean()\n",
    "    fittime[i] = scores['fit_time'].mean()\n",
    "    cm = metrics.confusion_matrix(y, ypred)\n",
    "    sensitivity[i] = float(cm[1][1])/np.sum(cm[1])\n",
    "    specificity[i] = float(cm[0][0])/np.sum(cm[0])\n",
    "#metrics.confusion_matrix(y, ypred)\n",
    "#metrics.accuracy_score(y, ypred)"
   ]
  },
  {
   "cell_type": "code",
   "execution_count": 82,
   "metadata": {},
   "outputs": [
    {
     "data": {
      "image/png": "[encoded data removed]",
      "text/plain": [
       "<matplotlib.figure.Figure at 0x7fb7dc9f3cc0>"
      ]
     },
     "metadata": {},
     "output_type": "display_data"
    }
   ],
   "source": [
    "#plt.plot(CRange, trainError, '-*b')\n",
    "plt.plot(CRange, testError, '-or', lw = 2, ms = 8)\n",
    "plt.plot(CRange, sensitivity, '-^k', lw = 2, ms = 8)\n",
    "plt.plot(CRange, specificity, '-+m', lw = 2, ms = 8)\n",
    "plt.legend(['Test Accuracy', 'Sensitivity', 'Specificity'], fontsize = 12)\n",
    "plt.xlabel(\"C\", fontsize=18)\n",
    "plt.ylabel(\"Score\", fontsize=18)\n",
    "plt.savefig('KSVM_Linear_Accuracy.png', format='png')\n",
    "plt.savefig('KSVM_Linear_Accuracy.eps', format='eps')\n",
    "#plt.savefig('KSVM_Sigmoid_Accuracy.png', format='png')\n",
    "#plt.savefig('KSVM_Sigmoid_Accuracy.eps', format='eps')"
   ]
  },
  {
   "cell_type": "code",
   "execution_count": 83,
   "metadata": {},
   "outputs": [
    {
     "data": {
      "text/plain": [
       "[0.0039243221282958983,\n",
       " 0.0042499303817749023,\n",
       " 0.0040336132049560549,\n",
       " 0.0047393083572387692,\n",
       " 0.0043641567230224606,\n",
       " 0.0048270463943481442,\n",
       " 0.0047252178192138672,\n",
       " 0.0056461095809936523,\n",
       " 0.0050579547882080075,\n",
       " 0.0055164098739624023,\n",
       " 0.0058726072311401367,\n",
       " 0.0058575391769409178]"
      ]
     },
     "execution_count": 83,
     "metadata": {},
     "output_type": "execute_result"
    }
   ],
   "source": [
    "fittime\n",
    "#metrics.confusion_matrix(y, ypred)"
   ]
  },
  {
   "cell_type": "code",
   "execution_count": 85,
   "metadata": {},
   "outputs": [
    {
     "data": {
      "text/plain": [
       "1.4638501094227998"
      ]
     },
     "execution_count": 85,
     "metadata": {},
     "output_type": "execute_result"
    },
    {
     "data": {
      "image/png": "[encoded data removed]",
      "text/plain": [
       "<matplotlib.figure.Figure at 0x7fb7dcaca2e8>"
      ]
     },
     "metadata": {},
     "output_type": "display_data"
    }
   ],
   "source": [
    "plt.plot(CRange, trainError, '-*b')\n",
    "trainError[10]\n",
    "testError[10]\n",
    "2.5/(35/12)**0.5"
   ]
  }
 ],
 "metadata": {
  "kernelspec": {
   "display_name": "Python 3",
   "language": "python",
   "name": "python3"
  },
  "language_info": {
   "codemirror_mode": {
    "name": "ipython",
    "version": 3
   },
   "file_extension": ".py",
   "mimetype": "text/x-python",
   "name": "python",
   "nbconvert_exporter": "python",
   "pygments_lexer": "ipython3",
   "version": "3.5.2"
  }
 },
 "nbformat": 4,
 "nbformat_minor": 2
}
