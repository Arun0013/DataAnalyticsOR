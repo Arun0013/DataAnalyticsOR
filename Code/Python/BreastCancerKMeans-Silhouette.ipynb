{
 "cells": [
  {
   "cell_type": "code",
   "execution_count": 28,
   "metadata": {},
   "outputs": [],
   "source": [
    "import pandas as pd\n",
    "from sklearn.cluster import KMeans\n",
    "import numpy as np\n",
    "import matplotlib.pyplot as plt\n",
    "from sklearn import metrics\n",
    "%matplotlib inline\n",
    "data = pd.read_csv(\"BCData.csv\", header = None)"
   ]
  },
  {
   "cell_type": "code",
   "execution_count": 29,
   "metadata": {},
   "outputs": [],
   "source": [
    "data_orig = data.copy()\n",
    "X = data.iloc[:,2:]\n",
    "y = data.iloc[:,1]"
   ]
  },
  {
   "cell_type": "code",
   "execution_count": 30,
   "metadata": {},
   "outputs": [],
   "source": [
    "XM = X[y == \"M\"]\n",
    "XB = X[y == \"B\"]"
   ]
  },
  {
   "cell_type": "code",
   "execution_count": 31,
   "metadata": {},
   "outputs": [
    {
     "name": "stderr",
     "output_type": "stream",
     "text": [
      "/usr/local/lib/python3.5/dist-packages/pandas/core/indexing.py:621: SettingWithCopyWarning: \n",
      "A value is trying to be set on a copy of a slice from a DataFrame.\n",
      "Try using .loc[row_indexer,col_indexer] = value instead\n",
      "\n",
      "See the caveats in the documentation: http://pandas.pydata.org/pandas-docs/stable/indexing.html#indexing-view-versus-copy\n",
      "  self.obj[item_labels[indexer[info_axis]]] = value\n"
     ]
    }
   ],
   "source": [
    "nFea = X.shape[1]\n",
    "averageM = [0 for i in range(nFea)]\n",
    "rangesM = [0 for i in range(nFea)]\n",
    "for j in range(nFea):\n",
    "    averageM[j] = XM.iloc[:,j].mean()\n",
    "    rangesM[j] = XM.iloc[:,j].max() - XM.iloc[:,j].min() \n",
    "    #rangesM[j] = XM.iloc[:,j].std()\n",
    "    XM.iloc[:,j] -= averageM[j]\n",
    "    XM.iloc[:,j] = XM.iloc[:,j]/rangesM[j] \n",
    "   \n",
    "averageB = [0 for i in range(nFea)]\n",
    "rangesB = [0 for i in range(nFea)]\n",
    "for j in range(XB.shape[1]):\n",
    "    averageB[j] = XB.iloc[:,j].mean()\n",
    "    rangesB[j] = XB.iloc[:,j].max() - XB.iloc[:,j].min() \n",
    "    #rangesB[j] = XB.iloc[:,j].std()\n",
    "    XB.iloc[:,j] -= averageB[j]\n",
    "    XB.iloc[:,j] = XB.iloc[:,j]/rangesB[j] "
   ]
  },
  {
   "cell_type": "code",
   "execution_count": 32,
   "metadata": {},
   "outputs": [],
   "source": [
    "Krange = [k for k in range(2,30)]\n",
    "\n",
    "thetaM = [0 for i in range(len(Krange))]\n",
    "thetaB = [0 for i in range(len(Krange))]\n",
    "\n",
    "for K in Krange:\n",
    "    kmM = KMeans(n_clusters = K,  random_state = 2)\n",
    "    kmM.fit(XM)\n",
    "    centroidM = kmM.cluster_centers_\n",
    "    labelsM = kmM.labels_\n",
    "    thetaM[K-Krange[0]] = metrics.silhouette_score(XM, labelsM)\n",
    "\n",
    "for K in Krange:\n",
    "    kmB = KMeans(n_clusters = K,  random_state = 4)\n",
    "    kmB.fit(XB)\n",
    "    centroidB = kmB.cluster_centers_\n",
    "    labelsB = kmB.labels_\n",
    "    thetaB[K-Krange[0]] = metrics.silhouette_score(XB, labelsB)\n",
    "    "
   ]
  },
  {
   "cell_type": "code",
   "execution_count": 33,
   "metadata": {},
   "outputs": [
    {
     "data": {
      "image/png": "[encoded data removed]",
      "text/plain": [
       "<matplotlib.figure.Figure at 0x7f0e9fb49dd8>"
      ]
     },
     "metadata": {},
     "output_type": "display_data"
    }
   ],
   "source": [
    "plt.plot(Krange, thetaM, '-*b')\n",
    "plt.xlabel(\"Number of Clusters\", fontsize=18)\n",
    "plt.ylabel(\"Validity Ratio\", fontsize=18)\n",
    "plt.axis([0, 30, 0, 0.3])\n",
    "plt.savefig('Malignant_VR_K_Sil.png', format='png')\n",
    "plt.savefig('Malignant_VR_K_Sil.eps', format='eps')"
   ]
  },
  {
   "cell_type": "code",
   "execution_count": 34,
   "metadata": {},
   "outputs": [
    {
     "data": {
      "image/png": "[encoded data removed]",
      "text/plain": [
       "<matplotlib.figure.Figure at 0x7f0e9fb49be0>"
      ]
     },
     "metadata": {},
     "output_type": "display_data"
    }
   ],
   "source": [
    "plt.plot(Krange, thetaB, '-*b')\n",
    "plt.xlabel(\"Number of clusters\", fontsize=18)\n",
    "plt.ylabel(\"Validity ratio\", fontsize=18)\n",
    "plt.axis([0, 30, 0, 0.3])\n",
    "plt.savefig('Benign_VR_K_Sil.png', format='png')\n",
    "plt.savefig('Benign_VR_K_Sil.eps', format='eps')"
   ]
  },
  {
   "cell_type": "code",
   "execution_count": 35,
   "metadata": {},
   "outputs": [
    {
     "data": {
      "text/plain": [
       "9.0949470177292824e-13"
      ]
     },
     "execution_count": 35,
     "metadata": {},
     "output_type": "execute_result"
    }
   ],
   "source": [
    "XM.iloc[:,0].sum()\n",
    "XB.iloc[:,0].sum()\n",
    "X.iloc[:,0].sum() - (len(XB)*averageB[0] + len(XM)*averageM[0])"
   ]
  }
 ],
 "metadata": {
  "kernelspec": {
   "display_name": "Python 3",
   "language": "python",
   "name": "python3"
  },
  "language_info": {
   "codemirror_mode": {
    "name": "ipython",
    "version": 3
   },
   "file_extension": ".py",
   "mimetype": "text/x-python",
   "name": "python",
   "nbconvert_exporter": "python",
   "pygments_lexer": "ipython3",
   "version": "3.5.2"
  }
 },
 "nbformat": 4,
 "nbformat_minor": 2
}
